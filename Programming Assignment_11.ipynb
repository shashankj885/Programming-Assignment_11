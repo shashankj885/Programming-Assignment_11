{
 "cells": [
  {
   "cell_type": "markdown",
   "id": "35f5a41e",
   "metadata": {},
   "source": [
    "1. Write a Python program to find words which are greater than given length k?"
   ]
  },
  {
   "cell_type": "code",
   "execution_count": 3,
   "id": "c1a53514",
   "metadata": {},
   "outputs": [],
   "source": [
    "def string_k(k, str):\n",
    "    string = []\n",
    "    text = str.split(\" \")\n",
    "    for x in text:\n",
    "        if len(x) > k:\n",
    "            string.append(x)\n",
    "    return string"
   ]
  },
  {
   "cell_type": "code",
   "execution_count": 6,
   "id": "7b8a67cc",
   "metadata": {},
   "outputs": [
    {
     "data": {
      "text/plain": [
       "['hello', 'geeks', 'geeks', 'computer', 'science', 'portal']"
      ]
     },
     "execution_count": 6,
     "metadata": {},
     "output_type": "execute_result"
    }
   ],
   "source": [
    "string_k(3,\"hello geeks for geeks is computer science portal\")"
   ]
  },
  {
   "cell_type": "markdown",
   "id": "db3a3044",
   "metadata": {},
   "source": [
    "2. Write a Python program for removing i-th character from a string?"
   ]
  },
  {
   "cell_type": "code",
   "execution_count": 7,
   "id": "64911e69",
   "metadata": {},
   "outputs": [],
   "source": [
    "def remove(string, i):\n",
    "    a = string[: i]\n",
    "    b = string[i + 1:]\n",
    "    return a + b"
   ]
  },
  {
   "cell_type": "code",
   "execution_count": 9,
   "id": "3479b873",
   "metadata": {},
   "outputs": [
    {
     "data": {
      "text/plain": [
       "'shashnkjaiswal'"
      ]
     },
     "execution_count": 9,
     "metadata": {},
     "output_type": "execute_result"
    }
   ],
   "source": [
    "remove(\"shashankjaiswal\",5)"
   ]
  },
  {
   "cell_type": "markdown",
   "id": "a8d6504d",
   "metadata": {},
   "source": [
    "3. Write a Python program to split and join a string?"
   ]
  },
  {
   "cell_type": "code",
   "execution_count": 25,
   "id": "b1c41847",
   "metadata": {},
   "outputs": [],
   "source": [
    "def split_string(string):\n",
    "    list_string = string.split(' ')\n",
    "    return list_string\n",
    " \n",
    "def join_string(string):\n",
    "    string = '-'.join(string)\n",
    "    return string"
   ]
  },
  {
   "cell_type": "code",
   "execution_count": 26,
   "id": "c747ab20",
   "metadata": {},
   "outputs": [
    {
     "data": {
      "text/plain": [
       "['hello', 'geeks', 'for', 'geeks', 'is', 'computer', 'science', 'portal']"
      ]
     },
     "execution_count": 26,
     "metadata": {},
     "output_type": "execute_result"
    }
   ],
   "source": [
    "split_string(\"hello geeks for geeks is computer science portal\")"
   ]
  },
  {
   "cell_type": "code",
   "execution_count": 27,
   "id": "3473df71",
   "metadata": {},
   "outputs": [
    {
     "data": {
      "text/plain": [
       "'h-e-l-l-o- -g-e-e-k-s- -f-o-r- -g-e-e-k-s- -i-s- -c-o-m-p-u-t-e-r- -s-c-i-e-n-c-e- -p-o-r-t-a-l'"
      ]
     },
     "execution_count": 27,
     "metadata": {},
     "output_type": "execute_result"
    }
   ],
   "source": [
    "join_string(\"hello geeks for geeks is computer science portal\")"
   ]
  },
  {
   "cell_type": "markdown",
   "id": "ade6c2c9",
   "metadata": {},
   "source": [
    "4. Write a Python to check if a given string is binary string or not?"
   ]
  },
  {
   "cell_type": "code",
   "execution_count": 28,
   "id": "7b481fc5",
   "metadata": {},
   "outputs": [],
   "source": [
    "def check(string):\n",
    "    p = set(string)\n",
    "    s = {'0', '1'}\n",
    "    if s == p or p == {'0'} or p == {'1'}:\n",
    "        print(\"Yes\")\n",
    "    else:\n",
    "        print(\"No\")"
   ]
  },
  {
   "cell_type": "code",
   "execution_count": 29,
   "id": "cce25ce3",
   "metadata": {},
   "outputs": [
    {
     "name": "stdout",
     "output_type": "stream",
     "text": [
      "No\n"
     ]
    }
   ],
   "source": [
    "check(\"shashankj85968\")"
   ]
  },
  {
   "cell_type": "code",
   "execution_count": 31,
   "id": "13e2a25c",
   "metadata": {},
   "outputs": [
    {
     "name": "stdout",
     "output_type": "stream",
     "text": [
      "Yes\n"
     ]
    }
   ],
   "source": [
    "check(\"010110110\")"
   ]
  },
  {
   "cell_type": "markdown",
   "id": "2ed5b49c",
   "metadata": {},
   "source": [
    "5. Write a Python program to find uncommon words from two Strings?"
   ]
  },
  {
   "cell_type": "code",
   "execution_count": 32,
   "id": "0cc3d36d",
   "metadata": {},
   "outputs": [],
   "source": [
    "def UncommonWords(A, B):\n",
    "    count = {}\n",
    "    for word in A.split():\n",
    "        count[word] = count.get(word, 0) + 1\n",
    "    for word in B.split():\n",
    "        count[word] = count.get(word, 0) + 1\n",
    "    return [word for word in count if count[word] == 1]"
   ]
  },
  {
   "cell_type": "code",
   "execution_count": 33,
   "id": "b32587b3",
   "metadata": {},
   "outputs": [
    {
     "data": {
      "text/plain": [
       "['program',\n",
       " 'uncommon',\n",
       " 'words',\n",
       " 'from',\n",
       " 'two',\n",
       " 'Strings',\n",
       " 'all',\n",
       " 'duplicate',\n",
       " 'characters',\n",
       " 'in',\n",
       " 'string']"
      ]
     },
     "execution_count": 33,
     "metadata": {},
     "output_type": "execute_result"
    }
   ],
   "source": [
    "UncommonWords(\"Write a Python program to find uncommon words from two Strings\",\"Write a Python to find all duplicate characters in string\")"
   ]
  },
  {
   "cell_type": "markdown",
   "id": "c4feccdb",
   "metadata": {},
   "source": [
    "6. Write a Python to find all duplicate characters in string?"
   ]
  },
  {
   "cell_type": "code",
   "execution_count": 34,
   "id": "da23ef48",
   "metadata": {},
   "outputs": [],
   "source": [
    "def duplicate_characters(string):\n",
    "    chars = {}\n",
    "    for char in string:\n",
    "        if char not in chars:\n",
    "            chars[char] = 1\n",
    "        else:\n",
    "            chars[char] += 1\n",
    "    duplicates = []\n",
    "    for char, count in chars.items():\n",
    "        if count > 1:\n",
    "            duplicates.append(char)\n",
    "    return duplicates"
   ]
  },
  {
   "cell_type": "code",
   "execution_count": 35,
   "id": "57b0e1dd",
   "metadata": {},
   "outputs": [
    {
     "data": {
      "text/plain": [
       "['g', 'r', 'e', 'k', 's']"
      ]
     },
     "execution_count": 35,
     "metadata": {},
     "output_type": "execute_result"
    }
   ],
   "source": [
    "duplicate_characters(\"greeksforgreeks\")"
   ]
  },
  {
   "cell_type": "markdown",
   "id": "68e6ad49",
   "metadata": {},
   "source": [
    "7. Write a Python Program to check if a string contains any special character?"
   ]
  },
  {
   "cell_type": "code",
   "execution_count": 36,
   "id": "56d98e60",
   "metadata": {},
   "outputs": [],
   "source": [
    "import re\n",
    "def run(string):\n",
    "    regex = re.compile('[@_!#$%^&*()<>?/\\|}{~:]')  \n",
    "    if(regex.search(string) == None):\n",
    "        print(\"String is accepted\")  \n",
    "    else:\n",
    "        print(\"String is not accepted.\")"
   ]
  },
  {
   "cell_type": "code",
   "execution_count": 37,
   "id": "7a37251b",
   "metadata": {},
   "outputs": [
    {
     "name": "stdout",
     "output_type": "stream",
     "text": [
      "String is not accepted.\n"
     ]
    }
   ],
   "source": [
    "run(\"greeks%forgr&eek*s\")"
   ]
  },
  {
   "cell_type": "code",
   "execution_count": 38,
   "id": "c4c2a662",
   "metadata": {},
   "outputs": [
    {
     "name": "stdout",
     "output_type": "stream",
     "text": [
      "String is accepted\n"
     ]
    }
   ],
   "source": [
    "run(\"greeksforgreeks\")"
   ]
  }
 ],
 "metadata": {
  "kernelspec": {
   "display_name": "Python 3 (ipykernel)",
   "language": "python",
   "name": "python3"
  },
  "language_info": {
   "codemirror_mode": {
    "name": "ipython",
    "version": 3
   },
   "file_extension": ".py",
   "mimetype": "text/x-python",
   "name": "python",
   "nbconvert_exporter": "python",
   "pygments_lexer": "ipython3",
   "version": "3.9.13"
  }
 },
 "nbformat": 4,
 "nbformat_minor": 5
}
